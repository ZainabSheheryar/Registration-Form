{
 "cells": [
  {
   "cell_type": "code",
   "execution_count": 29,
   "id": "afeda333",
   "metadata": {},
   "outputs": [],
   "source": [
    "#project 2 GUI Registration Form\n",
    "from tkinter import*\n",
    "from tkinter import ttk\n",
    "\n",
    "win=Tk()\n",
    "\n",
    "\n",
    "\n",
    "win.title(\"Registration Form\")\n",
    "win.geometry(\"600x470\")\n",
    "\n",
    "Label(win,text=\"Registration Form\", font=\"times 15 bold\").place(x=90,y=60)\n",
    "Label(text=\"Full name\", font=23).place(x=80, y=130)\n",
    "fullnameValue=StringVar()\n",
    "fullnameEntry=Entry(win,textvariable=fullnameValue,width=30,bd=2,font=20)\n",
    "fullnameEntry.place(x=240,y=130)\n",
    "\n",
    "Label(text=\"Email\", font=23).place(x=80, y=180)\n",
    "emailValue=StringVar()\n",
    "emailEntry=Entry(win,textvariable=emailValue,width=30,bd=2,font=20)\n",
    "emailEntry.place(x=240,y=180)\n",
    "\n",
    "Label(text=\"Gender\", font=23).place(x=80, y=230)\n",
    "genderValue=StringVar()\n",
    "data=IntVar()\n",
    "Radiobutton(win,text=\"Male\",padx= 5, variable= data, value=1).place(x=235,y=230)\n",
    "Radiobutton(win,text=\"Female\",padx= 20, variable= data, value=2).place(x=290,y=230)\n",
    "\n",
    "Label(text=\"Country\", font=23).place(x=80, y=280)\n",
    "list_of_country=[ 'Pakistan','UK','USA','UAE','China']\n",
    "\n",
    "c=StringVar()\n",
    "droplist=OptionMenu(win,c, *list_of_country)\n",
    "droplist.config(width=20)\n",
    "c.set('Select your Country')\n",
    "droplist.place(x=240,y=280)\n",
    "\n",
    "Label(text=\"Programming\", font=23).place(x=80, y=320)\n",
    "data1=IntVar()\n",
    "Checkbutton(win,text=\"Python\", variable=data1).place(x=200,y=320)\n",
    "\n",
    "data2=IntVar()\n",
    "Checkbutton(win,text=\"Java\", variable=data2).place(x=290,y=320)\n",
    "\n",
    "Button(win, text='Submit', width=20, bg=\"red\", fg='white').place(x=180,y=380)\n",
    "\n",
    "\n",
    "\n",
    "\n",
    "win.mainloop()"
   ]
  },
  {
   "cell_type": "code",
   "execution_count": 12,
   "id": "f630dad5",
   "metadata": {},
   "outputs": [],
   "source": []
  },
  {
   "cell_type": "code",
   "execution_count": null,
   "id": "e0d7a69b",
   "metadata": {},
   "outputs": [],
   "source": []
  },
  {
   "cell_type": "code",
   "execution_count": null,
   "id": "df657a50",
   "metadata": {},
   "outputs": [],
   "source": []
  },
  {
   "cell_type": "code",
   "execution_count": null,
   "id": "40737e3c",
   "metadata": {},
   "outputs": [],
   "source": []
  }
 ],
 "metadata": {
  "kernelspec": {
   "display_name": "Python 3 (ipykernel)",
   "language": "python",
   "name": "python3"
  },
  "language_info": {
   "codemirror_mode": {
    "name": "ipython",
    "version": 3
   },
   "file_extension": ".py",
   "mimetype": "text/x-python",
   "name": "python",
   "nbconvert_exporter": "python",
   "pygments_lexer": "ipython3",
   "version": "3.8.7"
  }
 },
 "nbformat": 4,
 "nbformat_minor": 5
}
